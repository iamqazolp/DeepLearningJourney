{
 "cells": [
  {
   "cell_type": "markdown",
   "id": "a2ceb828",
   "metadata": {},
   "source": [
    "classic Linear Regression, such a cool name for something so trivial. I learnt minibatch SGD and back propagation so thanks?\n"
   ]
  },
  {
   "cell_type": "code",
   "execution_count": 2,
   "id": "09f0bae2",
   "metadata": {},
   "outputs": [
    {
     "data": {
      "text/plain": [
       "<torch._C.Generator at 0x1817f4049b0>"
      ]
     },
     "execution_count": 2,
     "metadata": {},
     "output_type": "execute_result"
    }
   ],
   "source": [
    "import random\n",
    "import numpy as np\n",
    "import torch\n",
    "\n",
    "seed = 42\n",
    "\n",
    "random.seed(seed)           # Python's random\n",
    "np.random.seed(seed)        # NumPy\n",
    "torch.manual_seed(seed)     # PyTorch"
   ]
  },
  {
   "cell_type": "code",
   "execution_count": 3,
   "id": "c9d47b3a",
   "metadata": {},
   "outputs": [],
   "source": [
    "def prepare_data(datapointCount, dataDimension, trueWeight,trueBias):\n",
    "    inputData = torch.rand(size=(dataDimension,datapointCount))+torch.randint(-10,10,size=(dataDimension,datapointCount))\n",
    "    augmentedInput=torch.cat((inputData,torch.ones(size=(1,datapointCount))),dim=0)\n",
    "    augmentedWeight=torch.cat((trueWeight,trueBias),dim=0)\n",
    "    trueOutput = torch.matmul(augmentedInput.T,augmentedWeight.T)\n",
    "    noisyOutput = trueOutput\n",
    "    print(trueOutput.shape,augmentedInput.T.shape,augmentedWeight.shape,noisyOutput.shape)\n",
    "    return augmentedInput,noisyOutput\n",
    "    "
   ]
  },
  {
   "cell_type": "code",
   "execution_count": 4,
   "id": "720a199c",
   "metadata": {},
   "outputs": [],
   "source": [
    "from random import randint\n",
    "class LinearRegressionWithMinibatchSGD:\n",
    "    def __init__(self):\n",
    "        #hyperparameters\n",
    "        self.epochCount = 10000\n",
    "        self.batchSize = 20\n",
    "        self.learningRate = 0.01\n",
    "        self.datapointCount = 1000\n",
    "        self.dataDimension = 10\n",
    "        self.loss = []\n",
    "        #prepared_data\n",
    "        self.trueWeight = torch.rand(size=(self.dataDimension,))+torch.randint(-15,15,size=(self.dataDimension,))\n",
    "        self.trueBias = torch.randint(-20,20,size=(1,))*torch.rand(size=(1,))\n",
    "        self.input,self.noisyOutput = prepare_data(self.datapointCount, self.dataDimension, self.trueWeight, self.trueBias)\n",
    "        #initialized data\n",
    "        self.weight = torch.rand(size=(self.dataDimension+1,))+torch.randint(-15,15,size=(self.dataDimension+1,))\n",
    "        self.weight.requires_grad=True\n",
    "        self.output = torch.rand(size=(self.dataDimension+1,))+torch.randint(-15,15,size=(self.dataDimension+1,))\n",
    "    def loss_function(self,index):\n",
    "        return torch.norm((torch.matmul(self.input[:,index].T,self.weight)-self.noisyOutput[index]),p=2)\n",
    "    def loss_function2(self):\n",
    "        return torch.norm((torch.matmul(self.input.T,self.weight)-self.noisyOutput),p=2)/self.datapointCount\n",
    "    def minibatchSGD(self):\n",
    "        for i in range(self.epochCount):\n",
    "            \n",
    "            batch_gradient = 0\n",
    "            for j in range(self.batchSize):\n",
    "                index = randint(0,self.datapointCount-1)\n",
    "                self.loss_function(index).backward()    \n",
    "            batch_gradient+=self.weight.grad\n",
    "            self.weight.grad.zero_()\n",
    "            with torch.no_grad():\n",
    "                self.weight-=self.learningRate/self.batchSize*batch_gradient\n",
    "            if (i+1)%100 == 0:\n",
    "                self.loss.append(self.loss_function2().item())\n",
    "            \n",
    "    \n",
    "\n"
   ]
  },
  {
   "cell_type": "code",
   "execution_count": 5,
   "id": "37e15938",
   "metadata": {},
   "outputs": [
    {
     "name": "stdout",
     "output_type": "stream",
     "text": [
      "torch.Size([1000]) torch.Size([1000, 11]) torch.Size([11]) torch.Size([1000])\n"
     ]
    },
    {
     "name": "stderr",
     "output_type": "stream",
     "text": [
      "C:\\Users\\admin\\AppData\\Local\\Temp\\ipykernel_2448\\835320033.py:5: UserWarning: The use of `x.T` on tensors of dimension other than 2 to reverse their shape is deprecated and it will throw an error in a future release. Consider `x.mT` to transpose batches of matrices or `x.permute(*torch.arange(x.ndim - 1, -1, -1))` to reverse the dimensions of a tensor. (Triggered internally at C:\\actions-runner\\_work\\pytorch\\pytorch\\pytorch\\aten\\src\\ATen\\native\\TensorShape.cpp:4416.)\n",
      "  trueOutput = torch.matmul(augmentedInput.T,augmentedWeight.T)\n"
     ]
    }
   ],
   "source": [
    "t = LinearRegressionWithMinibatchSGD()\n"
   ]
  },
  {
   "cell_type": "code",
   "execution_count": null,
   "id": "5101e33b",
   "metadata": {},
   "outputs": [
    {
     "ename": "",
     "evalue": "",
     "output_type": "error",
     "traceback": [
      "\u001b[1;31mThe Kernel crashed while executing code in the current cell or a previous cell. \n",
      "\u001b[1;31mPlease review the code in the cell(s) to identify a possible cause of the failure. \n",
      "\u001b[1;31mClick <a href='https://aka.ms/vscodeJupyterKernelCrash'>here</a> for more info. \n",
      "\u001b[1;31mView Jupyter <a href='command:jupyter.viewOutput'>log</a> for further details."
     ]
    }
   ],
   "source": [
    "t.minibatchSGD()"
   ]
  },
  {
   "cell_type": "code",
   "execution_count": null,
   "id": "15381778",
   "metadata": {},
   "outputs": [],
   "source": [
    "import matplotlib.pyplot as plt\n",
    "\n",
    "epochs = list(range(1, 10001,100))\n",
    "\n",
    "plt.plot(epochs, t.loss, label='Train Loss')\n",
    "plt.xlabel('Epoch')\n",
    "plt.ylabel('Loss')\n",
    "plt.title('Training vs Validation Loss')\n",
    "plt.legend()\n",
    "plt.grid(True)\n",
    "plt.show()"
   ]
  },
  {
   "cell_type": "code",
   "execution_count": null,
   "id": "edbae902",
   "metadata": {},
   "outputs": [
    {
     "data": {
      "text/plain": [
       "tensor([ 13.8747, -10.0709,   5.3696,   9.9524,   6.4039,   7.6002,  -9.7400,\n",
       "         10.8017,  12.9368,   1.1560,   3.9811], requires_grad=True)"
      ]
     },
     "execution_count": 8,
     "metadata": {},
     "output_type": "execute_result"
    }
   ],
   "source": [
    "t.weight"
   ]
  },
  {
   "cell_type": "code",
   "execution_count": null,
   "id": "f504106b",
   "metadata": {},
   "outputs": [
    {
     "data": {
      "text/plain": [
       "tensor([ 13.8823, -10.0850,   5.3829,   9.9593,   6.3904,   7.6009,  -9.7434,\n",
       "         10.7936,  12.9408,   1.1332])"
      ]
     },
     "execution_count": 9,
     "metadata": {},
     "output_type": "execute_result"
    }
   ],
   "source": [
    "t.trueWeight"
   ]
  },
  {
   "cell_type": "code",
   "execution_count": null,
   "id": "0b9479ef",
   "metadata": {},
   "outputs": [
    {
     "data": {
      "text/plain": [
       "tensor([[-7.7031,  6.8317,  6.1053,  ..., -2.2224, -3.9657, -7.6908],\n",
       "        [-5.9298,  6.1836,  8.7785,  ...,  6.5462, -7.3704, -4.5471],\n",
       "        [-7.1570,  9.2085, -1.3208,  ..., -1.3500,  0.1243,  9.2002],\n",
       "        ...,\n",
       "        [-4.6709, -9.5917, -9.5261,  ..., -2.0793,  4.6488, -3.0942],\n",
       "        [-9.2577,  1.5909,  8.4040,  ..., -1.1152,  8.3679, -0.5938],\n",
       "        [ 1.0000,  1.0000,  1.0000,  ...,  1.0000,  1.0000,  1.0000]])"
      ]
     },
     "execution_count": 10,
     "metadata": {},
     "output_type": "execute_result"
    }
   ],
   "source": [
    "t.input"
   ]
  },
  {
   "cell_type": "code",
   "execution_count": null,
   "id": "03be5906",
   "metadata": {},
   "outputs": [
    {
     "data": {
      "text/plain": [
       "tensor(0.0065, grad_fn=<DivBackward0>)"
      ]
     },
     "execution_count": 11,
     "metadata": {},
     "output_type": "execute_result"
    }
   ],
   "source": [
    "t.loss_function2()"
   ]
  },
  {
   "cell_type": "code",
   "execution_count": null,
   "id": "35b38def",
   "metadata": {},
   "outputs": [
    {
     "name": "stdout",
     "output_type": "stream",
     "text": [
      "Epoch 0, Loss: 904.3119\n",
      "Epoch 50, Loss: 0.5754\n",
      "Epoch 100, Loss: 0.5462\n",
      "Epoch 150, Loss: 0.5535\n",
      "Epoch 200, Loss: 0.6128\n",
      "Epoch 250, Loss: 0.6346\n",
      "Epoch 300, Loss: 0.5881\n",
      "Epoch 350, Loss: 0.5792\n",
      "Epoch 400, Loss: 0.5264\n",
      "Epoch 450, Loss: 0.5936\n",
      "Epoch 499, Loss: 0.5630\n"
     ]
    },
    {
     "data": {
      "text/plain": [
       "tensor([ 13.8868, -10.0964,   5.3928,   9.9843,   6.4152,   7.6253,  -9.7268,\n",
       "         10.7916,  12.9397,   1.1343,   4.0873], requires_grad=True)"
      ]
     },
     "execution_count": 12,
     "metadata": {},
     "output_type": "execute_result"
    }
   ],
   "source": [
    "import torch\n",
    "import random\n",
    "\n",
    "# Reproducibility\n",
    "torch.manual_seed(42)\n",
    "random.seed(42)\n",
    "\n",
    "# Data Preparation\n",
    "def prepare_data(datapointCount, dataDimension, trueWeight, trueBias):\n",
    "    inputData = torch.rand(dataDimension, datapointCount) + torch.randint(-10, 10, (dataDimension, datapointCount))\n",
    "    augmentedInput = torch.cat((inputData, torch.ones(1, datapointCount)), dim=0)\n",
    "    augmentedWeight = torch.cat((trueWeight, trueBias), dim=0)\n",
    "    trueOutput = torch.matmul(augmentedWeight, augmentedInput)\n",
    "    noise = torch.rand_like(trueOutput) * torch.randint(-2, 2, trueOutput.shape)\n",
    "    noisyOutput = trueOutput + noise\n",
    "    return augmentedInput, noisyOutput\n",
    "\n",
    "# Linear Regression with Mini-batch SGD\n",
    "class LinearRegressionWithMinibatchSGD:\n",
    "    def __init__(self):\n",
    "        # Hyperparameters\n",
    "        self.epochCount = 500\n",
    "        self.batchSize = 20\n",
    "        self.learningRate = 0.01\n",
    "        self.datapointCount = 1000\n",
    "        self.dataDimension = 10\n",
    "        \n",
    "        # True parameters\n",
    "        self.trueWeight = torch.rand(self.dataDimension) + torch.randint(-15, 15, (self.dataDimension,))\n",
    "        self.trueBias = torch.rand(1) * torch.randint(-20, 20, (1,))\n",
    "        \n",
    "        # Data\n",
    "        self.input, self.noisyOutput = prepare_data(\n",
    "            self.datapointCount, self.dataDimension,\n",
    "            self.trueWeight, self.trueBias\n",
    "        )\n",
    "        \n",
    "        # Model parameters\n",
    "        self.weight = torch.randn(self.dataDimension + 1, requires_grad=True)\n",
    "\n",
    "    def loss_function(self, predictions, targets):\n",
    "        return torch.nn.functional.mse_loss(predictions, targets)\n",
    "\n",
    "    def minibatchSGD(self):\n",
    "        for epoch in range(self.epochCount):\n",
    "            total_loss = 0\n",
    "            for _ in range(self.datapointCount // self.batchSize):\n",
    "                indices = random.sample(range(self.datapointCount), self.batchSize)\n",
    "                batch_input = self.input[:, indices]  # (D+1, B)\n",
    "                batch_target = self.noisyOutput[indices]  # (B,)\n",
    "                \n",
    "                predictions = self.weight @ batch_input  # (B,)\n",
    "                loss = self.loss_function(predictions, batch_target)\n",
    "                loss.backward()\n",
    "\n",
    "                with torch.no_grad():\n",
    "                    self.weight -= self.learningRate * self.weight.grad\n",
    "                self.weight.grad.zero_()\n",
    "\n",
    "                total_loss += loss.item()\n",
    "            if epoch % 50 == 0 or epoch == self.epochCount - 1:\n",
    "                avg_loss = total_loss / (self.datapointCount // self.batchSize)\n",
    "                print(f\"Epoch {epoch}, Loss: {avg_loss:.4f}\")\n",
    "\n",
    "# Run it\n",
    "model = LinearRegressionWithMinibatchSGD()\n",
    "model.minibatchSGD()\n",
    "model.weight\n"
   ]
  },
  {
   "cell_type": "code",
   "execution_count": null,
   "id": "c207820c",
   "metadata": {},
   "outputs": [
    {
     "data": {
      "text/plain": [
       "(tensor([ 13.8747, -10.0709,   5.3696,   9.9524,   6.4039,   7.6002,  -9.7400,\n",
       "          10.8017,  12.9368,   1.1560,   3.9811], requires_grad=True),\n",
       " tensor([ 13.8823, -10.0850,   5.3829,   9.9593,   6.3904,   7.6009,  -9.7434,\n",
       "          10.7936,  12.9408,   1.1332]))"
      ]
     },
     "execution_count": 13,
     "metadata": {},
     "output_type": "execute_result"
    }
   ],
   "source": [
    "t.weight,t.trueWeight"
   ]
  },
  {
   "cell_type": "code",
   "execution_count": null,
   "id": "a982f014",
   "metadata": {},
   "outputs": [
    {
     "data": {
      "text/plain": [
       "tensor(0.0099, grad_fn=<DivBackward0>)"
      ]
     },
     "execution_count": 14,
     "metadata": {},
     "output_type": "execute_result"
    }
   ],
   "source": [
    "t.weight=model.weight\n",
    "t.loss_function2()"
   ]
  },
  {
   "cell_type": "code",
   "execution_count": null,
   "id": "355716b6",
   "metadata": {},
   "outputs": [],
   "source": [
    "a= torch.arange(1,31).reshape(5,6)"
   ]
  },
  {
   "cell_type": "code",
   "execution_count": null,
   "id": "9dc98cdc",
   "metadata": {},
   "outputs": [
    {
     "data": {
      "text/plain": [
       "tensor([[ 1,  2,  3,  4,  5,  6],\n",
       "        [ 7,  8,  9, 10, 11, 12],\n",
       "        [13, 14, 15, 16, 17, 18],\n",
       "        [19, 20, 21, 22, 23, 24],\n",
       "        [25, 26, 27, 28, 29, 30]])"
      ]
     },
     "execution_count": 16,
     "metadata": {},
     "output_type": "execute_result"
    }
   ],
   "source": [
    "a"
   ]
  },
  {
   "cell_type": "code",
   "execution_count": null,
   "id": "774f82d2",
   "metadata": {},
   "outputs": [
    {
     "data": {
      "text/plain": [
       "tensor([[ 4,  6],\n",
       "        [10, 12],\n",
       "        [16, 18],\n",
       "        [22, 24],\n",
       "        [28, 30]])"
      ]
     },
     "execution_count": 17,
     "metadata": {},
     "output_type": "execute_result"
    },
    {
     "ename": "",
     "evalue": "",
     "output_type": "error",
     "traceback": [
      "\u001b[1;31mThe Kernel crashed while executing code in the current cell or a previous cell. \n",
      "\u001b[1;31mPlease review the code in the cell(s) to identify a possible cause of the failure. \n",
      "\u001b[1;31mClick <a href='https://aka.ms/vscodeJupyterKernelCrash'>here</a> for more info. \n",
      "\u001b[1;31mView Jupyter <a href='command:jupyter.viewOutput'>log</a> for further details."
     ]
    }
   ],
   "source": [
    "a[:,(3,5)]"
   ]
  },
  {
   "cell_type": "code",
   "execution_count": null,
   "id": "0392a539",
   "metadata": {},
   "outputs": [
    {
     "name": "stdout",
     "output_type": "stream",
     "text": [
      "Epoch [10/100], Loss: 1.1270\n",
      "Epoch [20/100], Loss: 1.7483\n",
      "Epoch [30/100], Loss: 1.5354\n",
      "Epoch [40/100], Loss: 0.6386\n",
      "Epoch [50/100], Loss: 1.5537\n",
      "Epoch [60/100], Loss: 0.6115\n",
      "Epoch [70/100], Loss: 1.3558\n",
      "Epoch [80/100], Loss: 0.9340\n",
      "Epoch [90/100], Loss: 0.7140\n",
      "Epoch [100/100], Loss: 0.2935\n",
      "Learned weight: 3.0151071548461914\n",
      "Learned bias: 1.9922778606414795\n"
     ]
    }
   ],
   "source": [
    "import torch\n",
    "from torch import nn\n",
    "from torch.utils.data import DataLoader, TensorDataset\n",
    "import matplotlib.pyplot as plt\n",
    "\n",
    "# 1. Generate synthetic data\n",
    "def generate_data(n_samples=1000, input_dim=1, noise_std=1.0):\n",
    "    X = torch.randn(n_samples, input_dim)\n",
    "    true_weights = torch.tensor([[3.0]])\n",
    "    true_bias = 2.0\n",
    "    y = X @ true_weights + true_bias + noise_std * torch.randn(n_samples, 1)\n",
    "    return X, y\n",
    "\n",
    "# 2. Define the linear regression model\n",
    "class LinearRegressionModel(nn.Module):\n",
    "    def __init__(self, input_dim):\n",
    "        super().__init__()\n",
    "        self.linear = nn.Linear(input_dim, 1)\n",
    "\n",
    "    def forward(self, x):\n",
    "        return self.linear(x)\n",
    "\n",
    "# 3. Training loop\n",
    "def train(model, dataloader, criterion, optimizer, epochs=100):\n",
    "    for epoch in range(epochs):\n",
    "        for x_batch, y_batch in dataloader:\n",
    "            y_pred = model(x_batch)\n",
    "            loss = criterion(y_pred, y_batch)\n",
    "            optimizer.zero_grad()\n",
    "            loss.backward()\n",
    "            optimizer.step()\n",
    "        if (epoch + 1) % 10 == 0:\n",
    "            print(f\"Epoch [{epoch+1}/{epochs}], Loss: {loss.item():.4f}\")\n",
    "\n",
    "# 4. Main\n",
    "def main():\n",
    "    # Data preparation\n",
    "    X, y = generate_data()\n",
    "    dataset = TensorDataset(X, y)\n",
    "    dataloader = DataLoader(dataset, batch_size=32, shuffle=True)\n",
    "\n",
    "    # Model, loss, optimizer\n",
    "    model = LinearRegressionModel(input_dim=1)\n",
    "    criterion = nn.MSELoss()\n",
    "    optimizer = torch.optim.SGD(model.parameters(), lr=0.01)\n",
    "\n",
    "    # Training\n",
    "    train(model, dataloader, criterion, optimizer, epochs=100)\n",
    "\n",
    "    # Show learned parameters\n",
    "    print(\"Learned weight:\", model.linear.weight.item())\n",
    "    print(\"Learned bias:\", model.linear.bias.item())\n",
    "\n",
    "    # Visualization (optional for 1D input)\n",
    "    with torch.no_grad():\n",
    "        plt.scatter(X, y, label=\"Data\", alpha=0.3)\n",
    "        predicted = model(X)\n",
    "        plt.plot(X, predicted, color=\"red\", label=\"Fitted line\")\n",
    "        plt.legend()\n",
    "        plt.title(\"Linear Regression Fit\")\n",
    "        plt.show()\n",
    "\n",
    "if __name__ == \"__main__\":\n",
    "    main()\n"
   ]
  },
  {
   "cell_type": "code",
   "execution_count": null,
   "id": "a035767e",
   "metadata": {},
   "outputs": [
    {
     "data": {
      "image/png": "[encoded data removed]",
      "text/plain": [
       "<Figure size 640x480 with 1 Axes>"
      ]
     },
     "metadata": {},
     "output_type": "display_data"
    }
   ],
   "source": [
    "import matplotlib.pyplot as plt\n",
    "\n",
    "epochs = list(range(1, 11))\n",
    "train_loss = [0.9, 0.7, 0.5, 0.4, 0.35, 0.3, 0.28, 0.27, 0.26, 0.25]\n",
    "val_loss   = [0.95, 0.75, 0.6, 0.5, 0.45, 0.43, 0.42, 0.44, 0.46, 0.47]\n",
    "\n",
    "plt.plot(epochs, train_loss, label='Train Loss')\n",
    "plt.plot(epochs, val_loss, label='Validation Loss')\n",
    "plt.xlabel('Epoch')\n",
    "plt.ylabel('Loss')\n",
    "plt.title('Training vs Validation Loss')\n",
    "plt.legend()\n",
    "plt.grid(True)\n",
    "plt.show()"
   ]
  },
  {
   "cell_type": "code",
   "execution_count": null,
   "id": "2ef23ce7",
   "metadata": {},
   "outputs": [
    {
     "data": {
      "image/png": "[encoded data removed]",
      "text/plain": [
       "<Figure size 640x480 with 1 Axes>"
      ]
     },
     "metadata": {},
     "output_type": "display_data"
    },
    {
     "data": {
      "image/png": "[encoded data removed]",
      "text/plain": [
       "<Figure size 640x480 with 1 Axes>"
      ]
     },
     "metadata": {},
     "output_type": "display_data"
    }
   ],
   "source": [
    "# Scatter plot\n",
    "plt.scatter([1, 2, 3], [4, 5, 6])\n",
    "plt.title(\"Scatter Example\")\n",
    "plt.show()\n",
    "\n",
    "# Histogram\n",
    "import numpy as np\n",
    "data = np.random.randn(1000)\n",
    "plt.hist(data, bins=30)\n",
    "plt.title(\"Histogram Example\")\n",
    "plt.show()\n"
   ]
  },
  {
   "cell_type": "code",
   "execution_count": null,
   "id": "94fae1e0",
   "metadata": {},
   "outputs": [],
   "source": []
  }
 ],
 "metadata": {
  "kernelspec": {
   "display_name": "base",
   "language": "python",
   "name": "python3"
  },
  "language_info": {
   "codemirror_mode": {
    "name": "ipython",
    "version": 3
   },
   "file_extension": ".py",
   "mimetype": "text/x-python",
   "name": "python",
   "nbconvert_exporter": "python",
   "pygments_lexer": "ipython3",
   "version": "3.12.3"
  }
 },
 "nbformat": 4,
 "nbformat_minor": 5
}
